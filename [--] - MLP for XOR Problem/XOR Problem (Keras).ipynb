{
 "cells": [
  {
   "cell_type": "markdown",
   "metadata": {},
   "source": [
    "\n",
    "# Multilayer Percpetron (MLP): XOR Problem\n",
    "\n",
    "- [Introducion to the problem](#introduction-to-the-problem)\n",
    "- [MLP *(Multilayer perceptron)*: Theory]()\n",
    "- [Implementation](#implementation)\n",
    "  - [Function that print the boundary decision](#boundary-decision-plot-function)\n",
    "  - [MLP implementation with Keras](#mlp-implementation-with-keras)\n",
    "- [Python script to try the model](#python-script-to-try-the-model)\n",
    "- [Model architecture](#model-architecture)\n",
    "- [Boundary decision plot](#boundary-decision-plot)\n",
    "- [XOR problem vs AND problem](#xor-problem-vs-and-problem)\n",
    "- [Dependencies](#dependencies)\n",
    "- [References](#references)\n",
    "- [Author](#author)\n",
    "\n",
    "## Introduction to the problem\n",
    "\n",
    "In this work we try to explain how we can solve the problem of XOR port with neural networks, `1969` Minsky and Papert showed that the **single layer percpetron** does not solve this problem because a percpetron sets the weight only with the linear separation surface, but in the XOR case this solution is not appropriate because the two inputs of the XOR are not linear.\n",
    "\n",
    "The solution to this problem is the MLP (Multilayer Percpetron), because in MLP case we can divide fine the boundary decision areas of our XOR gates.\n",
    "\n",
    "![XOR truth table](./images/XOR_truth_table.svg)\n",
    "\n",
    "*XOR gate truth table*\n",
    "\n",
    "## MLP: Theory\n",
    "\n",
    "MLP networks are fully-connected feed-forward networks, with the term feed-forward means the property of the network to flow information \"forward\" within the network, In essence, the information found in a neuron in layer `i` can only be drawn to layer `i+1`.\n",
    "\n",
    "The MLP networks ensure the **best approximation property**, the best approximation property tells us that a MLP with only one dense hidden layer composed of an adequate number of neurons produces a set of functions that can approximate any continuous function in $\\mathbb{R}^{n}$ with a very small arbitrary error.\n",
    "\n",
    "![MLP Architecture](./images/MLP.png)\n",
    "\n",
    "## Implementation\n",
    "\n",
    "Now we can see the code that implements the MLP to solve the XOR problem, our code explaination is divided in two different block:\n",
    "\n",
    "1. Plot of the boundary decision\n",
    "2. Main code that create a model in `keras` for the XOR problem\n",
    "\n",
    "### Boundary Decision plot function\n",
    "\n",
    "This function is used to plot the boundary decision of our model."
   ]
  },
  {
   "cell_type": "code",
   "execution_count": 1,
   "metadata": {},
   "outputs": [
    {
     "name": "stderr",
     "output_type": "stream",
     "text": [
      "C:\\Users\\garem\\AppData\\Local\\Packages\\PythonSoftwareFoundation.Python.3.10_qbz5n2kfra8p0\\LocalCache\\local-packages\\Python310\\site-packages\\tqdm\\auto.py:21: TqdmWarning: IProgress not found. Please update jupyter and ipywidgets. See https://ipywidgets.readthedocs.io/en/stable/user_install.html\n",
      "  from .autonotebook import tqdm as notebook_tqdm\n"
     ]
    },
    {
     "name": "stdout",
     "output_type": "stream",
     "text": [
      "1.11.0+cpu\n"
     ]
    }
   ],
   "source": [
    "import matplotlib.pyplot as plt\n",
    "import numpy as np\n",
    "\n",
    "# Function that plot the boundary precision of our model\n",
    "def plot_decision_boundary(X, y, model):\n",
    "    x_min, x_max = X[:, 0].min() - 0.1, X[:, 0].max() + 0.1\n",
    "    y_min, y_max = X[:, 1].min() - 0.1, X[:, 1].max() + 0.1\n",
    "    xx, yy = np.meshgrid(np.arange(x_min, x_max, 0.01), np.arange(y_min, y_max, 0.01))\n",
    "    Z = model.predict(np.c_[xx.ravel(), yy.ravel()])\n",
    "    Z = Z.reshape(xx.shape)\n",
    "    # Print boundary decision\n",
    "    plt.contourf(xx, yy, Z, cmap=plt.cm.RdBu, alpha=0.8)\n",
    "    # Print all points\n",
    "    plt.scatter(X[:, 0], X[:, 1], c=y, cmap=plt.cm.RdBu)\n",
    "    plt.xlabel('A')\n",
    "    plt.ylabel('B')\n",
    "    plt.title('Decision Boundary')\n",
    "    plt.show()"
   ]
  },
  {
   "cell_type": "markdown",
   "metadata": {},
   "source": [
    "### MLP implementation with Keras\n",
    "\n",
    "The next block contain the implementation of the MLP model using Keras framework and tensorflow."
   ]
  },
  {
   "cell_type": "code",
   "execution_count": 2,
   "metadata": {},
   "outputs": [
    {
     "ename": "ModuleNotFoundError",
     "evalue": "No module named 'tensorflow'",
     "output_type": "error",
     "traceback": [
      "\u001b[1;31m---------------------------------------------------------------------------\u001b[0m",
      "\u001b[1;31mModuleNotFoundError\u001b[0m                       Traceback (most recent call last)",
      "Cell \u001b[1;32mIn [2], line 2\u001b[0m\n\u001b[0;32m      1\u001b[0m \u001b[38;5;28;01mimport\u001b[39;00m \u001b[38;5;21;01mnumpy\u001b[39;00m \u001b[38;5;28;01mas\u001b[39;00m \u001b[38;5;21;01mnp\u001b[39;00m\n\u001b[1;32m----> 2\u001b[0m \u001b[38;5;28;01mimport\u001b[39;00m \u001b[38;5;21;01mtensorflow\u001b[39;00m \u001b[38;5;28;01mas\u001b[39;00m \u001b[38;5;21;01mtf\u001b[39;00m\n\u001b[0;32m      3\u001b[0m \u001b[38;5;28;01mfrom\u001b[39;00m \u001b[38;5;21;01mkeras\u001b[39;00m \u001b[38;5;28;01mimport\u001b[39;00m Sequential, layers\n\u001b[0;32m      5\u001b[0m \u001b[38;5;66;03m# Number of neurons that compose the hidden layer\u001b[39;00m\n",
      "\u001b[1;31mModuleNotFoundError\u001b[0m: No module named 'tensorflow'"
     ]
    }
   ],
   "source": [
    "import numpy as np\n",
    "import tensorflow as tf\n",
    "from keras import Sequential, layers\n",
    "\n",
    "# Number of neurons that compose the hidden layer\n",
    "neurons = 10\n",
    "\n",
    "# Dataset\n",
    "X_train = ([[0,0],[0,1],[1,0],[1,1]])   # input data\n",
    "y_train = ([[0],[1],[1],[0]])           # output label\n",
    "\n",
    "# Init model\n",
    "model = Sequential()\n",
    "\n",
    "model.add(layers.Dense(neurons, activation=\"relu\", input_dim=2)) # hidden layer\n",
    "model.add(layers.Dense(1, activation=\"sigmoid\", input_dim=2))    # output layer\n",
    "\n",
    "# Compute the model\n",
    "model.compile(loss=\"binary_crossentropy\", optimizer=\"adam\", metrics=[\"accuracy\"])\n",
    "\n",
    "# Train the model, if you want to show the progress during the training remove the verbose=0 attributes\n",
    "model.fit(x=X_train, y=y_train, epochs=1000, batch_size=16, verbose=0)"
   ]
  },
  {
   "cell_type": "markdown",
   "metadata": {},
   "source": [
    "In this part of the code we can see some information about our model, boundary decision plot included:"
   ]
  },
  {
   "cell_type": "code",
   "execution_count": null,
   "metadata": {},
   "outputs": [
    {
     "name": "stdout",
     "output_type": "stream",
     "text": [
      "1/1 [==============================] - 0s 136ms/step - loss: 0.5163 - accuracy: 1.0000\n",
      "Loss:  0.5162816047668457\n",
      "Accuracy:  1.0\n",
      "1/1 [==============================] - 0s 80ms/step\n",
      "Predictions:  [[0.41901305]\n",
      " [0.6031947 ]\n",
      " [0.597251  ]\n",
      " [0.39417627]]\n",
      "458/458 [==============================] - 0s 735us/step\n"
     ]
    },
    {
     "data": {
      "image/png": "[encoded data removed]",
      "text/plain": [
       "<Figure size 640x480 with 1 Axes>"
      ]
     },
     "metadata": {},
     "output_type": "display_data"
    }
   ],
   "source": [
    "loss, accuracy = model.evaluate(X_train, y_train)\n",
    "print(\"Loss: \", loss)\n",
    "print(\"Accuracy: \", accuracy)\n",
    "\n",
    "predictions = model.predict(X_train)\n",
    "print(\"Predictions: \", predictions)\n",
    "\n",
    "plot_decision_boundary(np.array(X_train),np.array(y_train), model)\n",
    "\n",
    "# If you want to save your model on your file system uncomment next code line\n",
    "#model.save(\"MLP_XOR.h5\")"
   ]
  },
  {
   "cell_type": "markdown",
   "metadata": {},
   "source": [
    "## Python script to try the model\n",
    "\n",
    "In this repository you can find a python script named `MLP_XOR_tester.py`, you can run this program to see the result produced by our model.\n",
    "\n",
    "This program read a model `MLP_XOR.h5`, if the model not exists the program provide to a train a new model.\n",
    "\n",
    "## Model architecture\n",
    "\n",
    "Here you can see the architecture of the our trained model using the `Netron`\n",
    "\n",
    "![Netron Model architecture](./images/MLP_XOR_model_architecture.svg)\n",
    "\n",
    "## Boundary decision plot\n",
    "\n",
    "In this first plot we can see how the single layer perceptron cannot divide the two non linear input of the XOR gate:\n",
    "\n",
    "![Boundary decision in a Single layer perceptron](./images/XOR%20problem%20with%20single%20layer%20percptron.png)\n",
    "\n",
    "MLP can solve the XOR gate problem and here you can see how the boundary decision is divided with only one hidden layer:\n",
    "\n",
    "![Boundary decision with MLP and one hidden layer](./images/Boundary%20decision%20plot%20with%20MLP.png)\n",
    "\n",
    "MLP with two hidden layer, the solution is more accurate:\n",
    "\n",
    "![Boundary decision with MLP and two hidden layer](./images/Boundary%20decision%20with%202%20hidden%20layers.png)\n",
    "\n",
    "## XOR Problem vs AND Problem\n",
    "\n",
    "In the case of the AND logic gate the inputs are linear, for this reason we can divide the boundary decision with only one single layer perceptron.\n",
    "\n",
    "The following code show how to solve AND problem using only one single layer perceptron, with `epochs=4000` and `batch_size=4`:"
   ]
  },
  {
   "cell_type": "code",
   "execution_count": null,
   "metadata": {},
   "outputs": [
    {
     "name": "stdout",
     "output_type": "stream",
     "text": [
      "1/1 [==============================] - 0s 111ms/step - loss: 0.2634 - accuracy: 1.0000\n",
      "Loss:  0.2634093761444092\n",
      "Accuracy:  1.0\n",
      "1/1 [==============================] - 0s 49ms/step\n",
      "Predictions:  [[0.05705024]\n",
      " [0.27124864]\n",
      " [0.27322125]\n",
      " [0.69813734]]\n",
      "458/458 [==============================] - 0s 728us/step\n"
     ]
    },
    {
     "data": {
      "image/png": "[encoded data removed]",
      "text/plain": [
       "<Figure size 640x480 with 1 Axes>"
      ]
     },
     "metadata": {},
     "output_type": "display_data"
    }
   ],
   "source": [
    "# Dataset\n",
    "X_train = ([[0,0],[0,1],[1,0],[1,1]])   # input data\n",
    "y_train = ([[0],[0],[0],[1]])           # output label\n",
    "\n",
    "# Init model\n",
    "model = Sequential()\n",
    "\n",
    "# single layer perceptron\n",
    "model.add(layers.Dense(1, activation=\"sigmoid\", input_dim=2))\n",
    "\n",
    "# Compile the model\n",
    "model.compile(loss=\"binary_crossentropy\", optimizer=\"adam\", metrics=[\"accuracy\"])\n",
    "\n",
    "# Start the training\n",
    "model.fit(x=X_train, y=y_train, epochs=4000, batch_size=4, verbose=0)\n",
    "\n",
    "# Compute the Loss and the Accuracy metrics\n",
    "loss, accuracy = model.evaluate(X_train, y_train)\n",
    "print(\"Loss: \", loss)\n",
    "print(\"Accuracy: \", accuracy)\n",
    "\n",
    "# Predict the input value with our model\n",
    "predictions = model.predict(X_train)\n",
    "print(\"Predictions: \", predictions)\n",
    "\n",
    "plot_decision_boundary(np.array(X_train),np.array(y_train), model)"
   ]
  },
  {
   "cell_type": "markdown",
   "metadata": {},
   "source": [
    "The boundary decision of our AND model is perfect and we use only one single layer perceptron, to follow you can see the model architecture\n",
    "\n",
    "![AND boundary decision](./images/MLP_AND.h5.svg)\n",
    "\n",
    "## Dependencies\n",
    "\n",
    "* `Tensorflow`\n",
    "* `Keras`\n",
    "* `Matplotlib`\n",
    "* `Numpy`\n",
    "\n",
    "## References\n",
    "\n",
    "[Tensorflow](https://www.tensorflow.org/?hl=it)\n",
    "\n",
    "[Keras](https://www.tensorflow.org/guide/keras?hl=it)\n",
    "\n",
    "[Minsky and Papert: 'Percpetron' Paper](https://dl.acm.org/doi/abs/10.5555/50066)\n",
    "\n",
    "[Netron](https://netron.app/)\n",
    "\n",
    "## Author\n",
    "Emilio Garzia, 2024"
   ]
  }
 ],
 "metadata": {
  "kernelspec": {
   "display_name": "tise_env",
   "language": "python",
   "name": "python3"
  },
  "language_info": {
   "codemirror_mode": {
    "name": "ipython",
    "version": 3
   },
   "file_extension": ".py",
   "mimetype": "text/x-python",
   "name": "python",
   "nbconvert_exporter": "python",
   "pygments_lexer": "ipython3",
   "version": "3.10.11"
  }
 },
 "nbformat": 4,
 "nbformat_minor": 2
}
