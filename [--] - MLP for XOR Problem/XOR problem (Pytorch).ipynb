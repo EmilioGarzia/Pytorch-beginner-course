{
 "cells": [
  {
   "cell_type": "markdown",
   "id": "44ea75ed",
   "metadata": {},
   "source": [
    "# Pytorch beginner course: XOR problem using MLP\n",
    "\n",
    "## Summary\n",
    "\n",
    "- [XOR problem: introduction](#xor-problem-introduction)\n",
    "- [Multilayer Percpetro (MLP): main theory](#multilayer-perceptron-mlp-main-theory)\n",
    "- [Implementation](#implementation)\n",
    "  - [Boundary decision plot function](#boundary-decision-plot-function)\n",
    "  - [MLP implementation using pytorch](#mlp-implementation-using-pytorch)"
   ]
  },
  {
   "cell_type": "markdown",
   "id": "98eb61a6",
   "metadata": {},
   "source": [
    "## XOR problem: introduction\n",
    "\n",
    "In this work we try to explain how we can solve the problem of XOR port with neural networks, `1969` Minsky and Papert showed that the **single layer percpetron** does not solve this problem because a percpetron sets the weight only with the linear separation surface, but in the XOR case this solution is not appropriate because the two inputs of the XOR are not linear.\n",
    "\n",
    "The solution to this problem is the MLP (Multilayer Percpetron), because in MLP case we can divide fine the boundary decision areas of our XOR gates.\n",
    "\n",
    "![XOR truth table](./images/XOR_truth_table.svg)\n",
    "\n",
    "*XOR gate truth table*"
   ]
  },
  {
   "cell_type": "markdown",
   "id": "8eb0edf8",
   "metadata": {},
   "source": [
    "## Multilayer Perceptron (MLP): main theory\n",
    "\n",
    "MLP networks are fully-connected feed-forward networks, with the term feed-forward means the property of the network to flow information \"forward\" within the network, In essence, the information found in a neuron in layer `i` can only be drawn to layer `i+1`.\n",
    "\n",
    "The MLP networks ensure the **best approximation property**, the best approximation property tells us that a MLP with only one dense hidden layer composed of an adequate number of neurons produces a set of functions that can approximate any continuous function in $\\mathbb{R}^{n}$ with a very small arbitrary error.\n",
    "\n",
    "![MLP Architecture](./images/MLP.png)"
   ]
  },
  {
   "cell_type": "markdown",
   "id": "ed65db74",
   "metadata": {},
   "source": [
    "## Implementation\n",
    "\n",
    "Now we can see the code that implements the MLP to solve the XOR problem, our code explaination is divided in two different block:\n",
    "\n",
    "1. Plot of the boundary decision\n",
    "2. Main code that create a model in `pytorch` for the XOR problem"
   ]
  },
  {
   "cell_type": "markdown",
   "id": "5ee5f518",
   "metadata": {},
   "source": [
    "### Boundary decision plot function\n",
    "\n",
    "This function is used to plot the boundary decision of our model."
   ]
  },
  {
   "cell_type": "code",
   "execution_count": 60,
   "id": "50069f24",
   "metadata": {},
   "outputs": [],
   "source": [
    "import matplotlib.pyplot as plt\n",
    "import numpy as np\n",
    "import torch\n",
    "\n",
    "# Function which plot the boundary precision of our model\n",
    "def plot_decision_boundary(X, y, model):\n",
    "    # Set limits of the plot\n",
    "    x_min, x_max = X[:, 0].min() - 0.1, X[:, 0].max() + 0.1\n",
    "    y_min, y_max = X[:, 1].min() - 0.1, X[:, 1].max() + 0.1\n",
    "\n",
    "    # Prepare data and labels as meshgrid\n",
    "    xx, yy = np.meshgrid(\n",
    "        np.arange(x_min, x_max, 0.01),\n",
    "        np.arange(y_min, y_max, 0.01)\n",
    "    )\n",
    "\n",
    "    # Convert numpy array to tensor, useful to predict result of trained model\n",
    "    grid = np.c_[xx.ravel(), yy.ravel()]\n",
    "    grid_tensor = torch.from_numpy(grid).float()\n",
    "\n",
    "\n",
    "    with torch.no_grad():\n",
    "        Z = model(grid_tensor)\n",
    "        Z = Z.numpy()  # from tensor to numpy\n",
    "        Z = (Z >= 0.5).astype(int)  # binary classification threshold\n",
    "    Z = Z.reshape(xx.shape)\n",
    "\n",
    "    # Print boundary decision\n",
    "    plt.contourf(xx, yy, Z, cmap=plt.cm.RdBu, alpha=0.8)\n",
    "    # Print all points\n",
    "    plt.scatter(X[:, 0], X[:, 1], c=y, cmap=plt.cm.RdBu)\n",
    "    plt.xlabel('A')\n",
    "    plt.ylabel('B')\n",
    "    plt.title('Decision Boundary')\n",
    "    plt.show()"
   ]
  },
  {
   "cell_type": "markdown",
   "id": "4aa6c1a1",
   "metadata": {},
   "source": [
    "### MLP implementation using pytorch\n",
    "\n",
    "The first step involve to the instantiation of the dataset, in this case our dataset is very small, thus avoid to use accelerator (CUDA), because our few data lead to memory bound bottleneck (too overhead to move data from CPU to DEVICE)"
   ]
  },
  {
   "cell_type": "code",
   "execution_count": 61,
   "id": "ff9f8bbc",
   "metadata": {},
   "outputs": [],
   "source": [
    "import torch\n",
    "import torch.nn as nn\n",
    "import torch.optim as optim\n",
    "\n",
    "# Dataset\n",
    "X = torch.tensor([[0.0, 0.0],\n",
    "                  [0.0, 1.0],\n",
    "                  [1.0, 0.0],\n",
    "                  [1.0, 1.0]])\n",
    "\n",
    "# Labels\n",
    "y = torch.tensor([[0.0],\n",
    "                  [1.0],\n",
    "                  [1.0],\n",
    "                  [0.0]])"
   ]
  },
  {
   "cell_type": "markdown",
   "id": "e2d69dce",
   "metadata": {},
   "source": [
    "Now we can implement our simple MLP model extending the base class `nn.Module`.\n",
    "\n",
    "Two hidden layers are enough to solve XOR problem, moreover is suggested to use hyperbolic tangent as activation function in order to reach the non linearity in a efficient way, if you try to use sigmoid you need more epochs to get a well generalized model."
   ]
  },
  {
   "cell_type": "code",
   "execution_count": 84,
   "id": "e0b511c4",
   "metadata": {},
   "outputs": [],
   "source": [
    "class MLP(nn.Module):\n",
    "    def __init__(self):\n",
    "        super(MLP, self).__init__()\n",
    "        self.fc1 = nn.Linear(2, 2) # Hidden Layer 1: (2) Input from Input layer -> (2) Output to Hidden Layer 2\n",
    "        self.fc2 = nn.Linear(2, 1) # Hidden Layer 2: (2) Input from Hidden layer 1 -> (1) Output to Output Layer\n",
    "\n",
    "    # Move date ahead in the net\n",
    "    def forward(self, x):\n",
    "        # Apply hyperbolic tangent as activation function for each hidden layer \n",
    "        x = torch.tanh(self.fc1(x))\n",
    "        x = torch.tanh(self.fc2(x))\n",
    "        return x\n",
    "    \n",
    "\n",
    "    # Train model\n",
    "    def fit(self, X, y, loss_function, optimizer, epochs=100, loss_print_step=10):\n",
    "        for epoch in range(epochs):\n",
    "            optimizer.zero_grad()\n",
    "            predictions = self(X)\n",
    "            loss = loss_function(predictions, y)\n",
    "            if epoch % loss_print_step == 0:\n",
    "                print(f'Loss at Epoch {epoch}: {loss}')\n",
    "            loss.backward()\n",
    "            optimizer.step()\n",
    "        # return predictions at the end of the train\n",
    "        return predictions"
   ]
  },
  {
   "cell_type": "markdown",
   "id": "5f7ef54f",
   "metadata": {},
   "source": [
    "Let's try it!"
   ]
  },
  {
   "cell_type": "code",
   "execution_count": 100,
   "id": "899c2dbf",
   "metadata": {},
   "outputs": [
    {
     "name": "stdout",
     "output_type": "stream",
     "text": [
      "Loss at Epoch 0: 1.4708342552185059\n",
      "Loss at Epoch 100: 0.23676913976669312\n",
      "Loss at Epoch 200: 0.21734163165092468\n",
      "Loss at Epoch 300: 0.1980605125427246\n",
      "Loss at Epoch 400: 0.18576982617378235\n",
      "Loss at Epoch 500: 0.17689892649650574\n",
      "Loss at Epoch 600: 0.16770698130130768\n",
      "Loss at Epoch 700: 0.1513655185699463\n",
      "Loss at Epoch 800: 0.10979226231575012\n",
      "Loss at Epoch 900: 0.04931943118572235\n",
      "Loss at Epoch 1000: 0.018971271812915802\n",
      "Loss at Epoch 1100: 0.009059164673089981\n",
      "Loss at Epoch 1200: 0.005332242697477341\n",
      "Loss at Epoch 1300: 0.0035949284210801125\n",
      "Loss at Epoch 1400: 0.002642972394824028\n",
      "Loss at Epoch 1500: 0.0020589856430888176\n",
      "Loss at Epoch 1600: 0.0016707475297152996\n",
      "Loss at Epoch 1700: 0.0013969155261293054\n",
      "Loss at Epoch 1800: 0.0011948860483244061\n",
      "Loss at Epoch 1900: 0.0010404984932392836\n",
      "\n",
      "Model's predictions:\n",
      "tensor([[0.0030],\n",
      "        [0.9573],\n",
      "        [0.9573],\n",
      "        [0.0054]])\n",
      "\n",
      "Prediction on tensor([[0., 1.]]) : 1\n"
     ]
    },
    {
     "data": {
      "image/png": "[encoded data removed]",
      "text/plain": [
       "<Figure size 640x480 with 1 Axes>"
      ]
     },
     "metadata": {},
     "output_type": "display_data"
    }
   ],
   "source": [
    "# model instatiation\n",
    "model = MLP()\n",
    "\n",
    "# Used optimizer\n",
    "optimizer = optim.SGD(model.parameters(), lr=0.1)\n",
    "\n",
    "# Train model\n",
    "predictions = model.fit(X=X, y=y, epochs=2000, loss_print_step=100, loss_function=nn.MSELoss(), optimizer=optimizer)\n",
    "\n",
    "# Outputs\n",
    "print(\"\\nModel's predictions:\")\n",
    "print(predictions.detach())\n",
    "\n",
    "# Evalutation mode (disabled dropout and others properties which limit the net)\n",
    "model.eval()\n",
    "\n",
    "# Test model on a specific input\n",
    "new_input = torch.tensor([[0.0,1.0]])\n",
    "output = model(new_input)\n",
    "prediction = (output >= 0.5).float()\n",
    "print(f\"\\nPrediction on {new_input} : {int(prediction.item())}\")\n",
    "\n",
    "# Decision boundary\n",
    "plot_decision_boundary(np.array(X), np.array(y), model)"
   ]
  }
 ],
 "metadata": {
  "kernelspec": {
   "display_name": "machine_learning",
   "language": "python",
   "name": "python3"
  },
  "language_info": {
   "codemirror_mode": {
    "name": "ipython",
    "version": 3
   },
   "file_extension": ".py",
   "mimetype": "text/x-python",
   "name": "python",
   "nbconvert_exporter": "python",
   "pygments_lexer": "ipython3",
   "version": "3.12.9"
  }
 },
 "nbformat": 4,
 "nbformat_minor": 5
}
